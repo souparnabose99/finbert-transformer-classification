{
  "nbformat": 4,
  "nbformat_minor": 0,
  "metadata": {
    "colab": {
      "name": "Finbert-Sentinment-Analysis.ipynb",
      "provenance": [],
      "collapsed_sections": [],
      "authorship_tag": "ABX9TyMvvgFXsWkC87mN/xF+zLRi",
      "include_colab_link": true
    },
    "kernelspec": {
      "name": "python3",
      "display_name": "Python 3"
    },
    "language_info": {
      "name": "python"
    },
    "widgets": {
      "application/vnd.jupyter.widget-state+json": {
        "04a3d43125a34e53b90c7aad69220883": {
          "model_module": "@jupyter-widgets/controls",
          "model_name": "HBoxModel",
          "state": {
            "_view_name": "HBoxView",
            "_dom_classes": [],
            "_model_name": "HBoxModel",
            "_view_module": "@jupyter-widgets/controls",
            "_model_module_version": "1.5.0",
            "_view_count": null,
            "_view_module_version": "1.5.0",
            "box_style": "",
            "layout": "IPY_MODEL_e0105c1d15f54d1ab1895628f2d9eb17",
            "_model_module": "@jupyter-widgets/controls",
            "children": [
              "IPY_MODEL_ee19772292684bdca7a4cf2e877b8c84",
              "IPY_MODEL_17d73f5ed4f143f4a53cd75c90327a92"
            ]
          }
        },
        "e0105c1d15f54d1ab1895628f2d9eb17": {
          "model_module": "@jupyter-widgets/base",
          "model_name": "LayoutModel",
          "state": {
            "_view_name": "LayoutView",
            "grid_template_rows": null,
            "right": null,
            "justify_content": null,
            "_view_module": "@jupyter-widgets/base",
            "overflow": null,
            "_model_module_version": "1.2.0",
            "_view_count": null,
            "flex_flow": null,
            "width": null,
            "min_width": null,
            "border": null,
            "align_items": null,
            "bottom": null,
            "_model_module": "@jupyter-widgets/base",
            "top": null,
            "grid_column": null,
            "overflow_y": null,
            "overflow_x": null,
            "grid_auto_flow": null,
            "grid_area": null,
            "grid_template_columns": null,
            "flex": null,
            "_model_name": "LayoutModel",
            "justify_items": null,
            "grid_row": null,
            "max_height": null,
            "align_content": null,
            "visibility": null,
            "align_self": null,
            "height": null,
            "min_height": null,
            "padding": null,
            "grid_auto_rows": null,
            "grid_gap": null,
            "max_width": null,
            "order": null,
            "_view_module_version": "1.2.0",
            "grid_template_areas": null,
            "object_position": null,
            "object_fit": null,
            "grid_auto_columns": null,
            "margin": null,
            "display": null,
            "left": null
          }
        },
        "ee19772292684bdca7a4cf2e877b8c84": {
          "model_module": "@jupyter-widgets/controls",
          "model_name": "FloatProgressModel",
          "state": {
            "_view_name": "ProgressView",
            "style": "IPY_MODEL_d53ed682e0a04e4eb7ae906a2f1588a9",
            "_dom_classes": [],
            "description": "Downloading: 100%",
            "_model_name": "FloatProgressModel",
            "bar_style": "success",
            "max": 758,
            "_view_module": "@jupyter-widgets/controls",
            "_model_module_version": "1.5.0",
            "value": 758,
            "_view_count": null,
            "_view_module_version": "1.5.0",
            "orientation": "horizontal",
            "min": 0,
            "description_tooltip": null,
            "_model_module": "@jupyter-widgets/controls",
            "layout": "IPY_MODEL_f8d6d22c040244ec89137ab617b7e9ab"
          }
        },
        "17d73f5ed4f143f4a53cd75c90327a92": {
          "model_module": "@jupyter-widgets/controls",
          "model_name": "HTMLModel",
          "state": {
            "_view_name": "HTMLView",
            "style": "IPY_MODEL_941bd97292cd4d8fbd935b3afe9d230e",
            "_dom_classes": [],
            "description": "",
            "_model_name": "HTMLModel",
            "placeholder": "​",
            "_view_module": "@jupyter-widgets/controls",
            "_model_module_version": "1.5.0",
            "value": " 758/758 [00:00&lt;00:00, 5.21kB/s]",
            "_view_count": null,
            "_view_module_version": "1.5.0",
            "description_tooltip": null,
            "_model_module": "@jupyter-widgets/controls",
            "layout": "IPY_MODEL_24c7e90547b847a084eaedc453dabf50"
          }
        },
        "d53ed682e0a04e4eb7ae906a2f1588a9": {
          "model_module": "@jupyter-widgets/controls",
          "model_name": "ProgressStyleModel",
          "state": {
            "_view_name": "StyleView",
            "_model_name": "ProgressStyleModel",
            "description_width": "initial",
            "_view_module": "@jupyter-widgets/base",
            "_model_module_version": "1.5.0",
            "_view_count": null,
            "_view_module_version": "1.2.0",
            "bar_color": null,
            "_model_module": "@jupyter-widgets/controls"
          }
        },
        "f8d6d22c040244ec89137ab617b7e9ab": {
          "model_module": "@jupyter-widgets/base",
          "model_name": "LayoutModel",
          "state": {
            "_view_name": "LayoutView",
            "grid_template_rows": null,
            "right": null,
            "justify_content": null,
            "_view_module": "@jupyter-widgets/base",
            "overflow": null,
            "_model_module_version": "1.2.0",
            "_view_count": null,
            "flex_flow": null,
            "width": null,
            "min_width": null,
            "border": null,
            "align_items": null,
            "bottom": null,
            "_model_module": "@jupyter-widgets/base",
            "top": null,
            "grid_column": null,
            "overflow_y": null,
            "overflow_x": null,
            "grid_auto_flow": null,
            "grid_area": null,
            "grid_template_columns": null,
            "flex": null,
            "_model_name": "LayoutModel",
            "justify_items": null,
            "grid_row": null,
            "max_height": null,
            "align_content": null,
            "visibility": null,
            "align_self": null,
            "height": null,
            "min_height": null,
            "padding": null,
            "grid_auto_rows": null,
            "grid_gap": null,
            "max_width": null,
            "order": null,
            "_view_module_version": "1.2.0",
            "grid_template_areas": null,
            "object_position": null,
            "object_fit": null,
            "grid_auto_columns": null,
            "margin": null,
            "display": null,
            "left": null
          }
        },
        "941bd97292cd4d8fbd935b3afe9d230e": {
          "model_module": "@jupyter-widgets/controls",
          "model_name": "DescriptionStyleModel",
          "state": {
            "_view_name": "StyleView",
            "_model_name": "DescriptionStyleModel",
            "description_width": "",
            "_view_module": "@jupyter-widgets/base",
            "_model_module_version": "1.5.0",
            "_view_count": null,
            "_view_module_version": "1.2.0",
            "_model_module": "@jupyter-widgets/controls"
          }
        },
        "24c7e90547b847a084eaedc453dabf50": {
          "model_module": "@jupyter-widgets/base",
          "model_name": "LayoutModel",
          "state": {
            "_view_name": "LayoutView",
            "grid_template_rows": null,
            "right": null,
            "justify_content": null,
            "_view_module": "@jupyter-widgets/base",
            "overflow": null,
            "_model_module_version": "1.2.0",
            "_view_count": null,
            "flex_flow": null,
            "width": null,
            "min_width": null,
            "border": null,
            "align_items": null,
            "bottom": null,
            "_model_module": "@jupyter-widgets/base",
            "top": null,
            "grid_column": null,
            "overflow_y": null,
            "overflow_x": null,
            "grid_auto_flow": null,
            "grid_area": null,
            "grid_template_columns": null,
            "flex": null,
            "_model_name": "LayoutModel",
            "justify_items": null,
            "grid_row": null,
            "max_height": null,
            "align_content": null,
            "visibility": null,
            "align_self": null,
            "height": null,
            "min_height": null,
            "padding": null,
            "grid_auto_rows": null,
            "grid_gap": null,
            "max_width": null,
            "order": null,
            "_view_module_version": "1.2.0",
            "grid_template_areas": null,
            "object_position": null,
            "object_fit": null,
            "grid_auto_columns": null,
            "margin": null,
            "display": null,
            "left": null
          }
        },
        "018d5dcc80bf4f69b10a57e44f415176": {
          "model_module": "@jupyter-widgets/controls",
          "model_name": "HBoxModel",
          "state": {
            "_view_name": "HBoxView",
            "_dom_classes": [],
            "_model_name": "HBoxModel",
            "_view_module": "@jupyter-widgets/controls",
            "_model_module_version": "1.5.0",
            "_view_count": null,
            "_view_module_version": "1.5.0",
            "box_style": "",
            "layout": "IPY_MODEL_25e882c25d534734a6ef6a6f930829ed",
            "_model_module": "@jupyter-widgets/controls",
            "children": [
              "IPY_MODEL_1f745ae0b636403db45ac3d5e4d0b486",
              "IPY_MODEL_9893d67c54834ff1844ec8480907db8d"
            ]
          }
        },
        "25e882c25d534734a6ef6a6f930829ed": {
          "model_module": "@jupyter-widgets/base",
          "model_name": "LayoutModel",
          "state": {
            "_view_name": "LayoutView",
            "grid_template_rows": null,
            "right": null,
            "justify_content": null,
            "_view_module": "@jupyter-widgets/base",
            "overflow": null,
            "_model_module_version": "1.2.0",
            "_view_count": null,
            "flex_flow": null,
            "width": null,
            "min_width": null,
            "border": null,
            "align_items": null,
            "bottom": null,
            "_model_module": "@jupyter-widgets/base",
            "top": null,
            "grid_column": null,
            "overflow_y": null,
            "overflow_x": null,
            "grid_auto_flow": null,
            "grid_area": null,
            "grid_template_columns": null,
            "flex": null,
            "_model_name": "LayoutModel",
            "justify_items": null,
            "grid_row": null,
            "max_height": null,
            "align_content": null,
            "visibility": null,
            "align_self": null,
            "height": null,
            "min_height": null,
            "padding": null,
            "grid_auto_rows": null,
            "grid_gap": null,
            "max_width": null,
            "order": null,
            "_view_module_version": "1.2.0",
            "grid_template_areas": null,
            "object_position": null,
            "object_fit": null,
            "grid_auto_columns": null,
            "margin": null,
            "display": null,
            "left": null
          }
        },
        "1f745ae0b636403db45ac3d5e4d0b486": {
          "model_module": "@jupyter-widgets/controls",
          "model_name": "FloatProgressModel",
          "state": {
            "_view_name": "ProgressView",
            "style": "IPY_MODEL_aaf6d7a887204db4ab1f1a23c3ba5394",
            "_dom_classes": [],
            "description": "Downloading: 100%",
            "_model_name": "FloatProgressModel",
            "bar_style": "success",
            "max": 437992753,
            "_view_module": "@jupyter-widgets/controls",
            "_model_module_version": "1.5.0",
            "value": 437992753,
            "_view_count": null,
            "_view_module_version": "1.5.0",
            "orientation": "horizontal",
            "min": 0,
            "description_tooltip": null,
            "_model_module": "@jupyter-widgets/controls",
            "layout": "IPY_MODEL_408ee0a14ae247e5ad0b11d8f87420ae"
          }
        },
        "9893d67c54834ff1844ec8480907db8d": {
          "model_module": "@jupyter-widgets/controls",
          "model_name": "HTMLModel",
          "state": {
            "_view_name": "HTMLView",
            "style": "IPY_MODEL_f6527b5948db48e783640b218255a5ff",
            "_dom_classes": [],
            "description": "",
            "_model_name": "HTMLModel",
            "placeholder": "​",
            "_view_module": "@jupyter-widgets/controls",
            "_model_module_version": "1.5.0",
            "value": " 438M/438M [00:12&lt;00:00, 35.8MB/s]",
            "_view_count": null,
            "_view_module_version": "1.5.0",
            "description_tooltip": null,
            "_model_module": "@jupyter-widgets/controls",
            "layout": "IPY_MODEL_d319255fb1034208935c4e5708100ea6"
          }
        },
        "aaf6d7a887204db4ab1f1a23c3ba5394": {
          "model_module": "@jupyter-widgets/controls",
          "model_name": "ProgressStyleModel",
          "state": {
            "_view_name": "StyleView",
            "_model_name": "ProgressStyleModel",
            "description_width": "initial",
            "_view_module": "@jupyter-widgets/base",
            "_model_module_version": "1.5.0",
            "_view_count": null,
            "_view_module_version": "1.2.0",
            "bar_color": null,
            "_model_module": "@jupyter-widgets/controls"
          }
        },
        "408ee0a14ae247e5ad0b11d8f87420ae": {
          "model_module": "@jupyter-widgets/base",
          "model_name": "LayoutModel",
          "state": {
            "_view_name": "LayoutView",
            "grid_template_rows": null,
            "right": null,
            "justify_content": null,
            "_view_module": "@jupyter-widgets/base",
            "overflow": null,
            "_model_module_version": "1.2.0",
            "_view_count": null,
            "flex_flow": null,
            "width": null,
            "min_width": null,
            "border": null,
            "align_items": null,
            "bottom": null,
            "_model_module": "@jupyter-widgets/base",
            "top": null,
            "grid_column": null,
            "overflow_y": null,
            "overflow_x": null,
            "grid_auto_flow": null,
            "grid_area": null,
            "grid_template_columns": null,
            "flex": null,
            "_model_name": "LayoutModel",
            "justify_items": null,
            "grid_row": null,
            "max_height": null,
            "align_content": null,
            "visibility": null,
            "align_self": null,
            "height": null,
            "min_height": null,
            "padding": null,
            "grid_auto_rows": null,
            "grid_gap": null,
            "max_width": null,
            "order": null,
            "_view_module_version": "1.2.0",
            "grid_template_areas": null,
            "object_position": null,
            "object_fit": null,
            "grid_auto_columns": null,
            "margin": null,
            "display": null,
            "left": null
          }
        },
        "f6527b5948db48e783640b218255a5ff": {
          "model_module": "@jupyter-widgets/controls",
          "model_name": "DescriptionStyleModel",
          "state": {
            "_view_name": "StyleView",
            "_model_name": "DescriptionStyleModel",
            "description_width": "",
            "_view_module": "@jupyter-widgets/base",
            "_model_module_version": "1.5.0",
            "_view_count": null,
            "_view_module_version": "1.2.0",
            "_model_module": "@jupyter-widgets/controls"
          }
        },
        "d319255fb1034208935c4e5708100ea6": {
          "model_module": "@jupyter-widgets/base",
          "model_name": "LayoutModel",
          "state": {
            "_view_name": "LayoutView",
            "grid_template_rows": null,
            "right": null,
            "justify_content": null,
            "_view_module": "@jupyter-widgets/base",
            "overflow": null,
            "_model_module_version": "1.2.0",
            "_view_count": null,
            "flex_flow": null,
            "width": null,
            "min_width": null,
            "border": null,
            "align_items": null,
            "bottom": null,
            "_model_module": "@jupyter-widgets/base",
            "top": null,
            "grid_column": null,
            "overflow_y": null,
            "overflow_x": null,
            "grid_auto_flow": null,
            "grid_area": null,
            "grid_template_columns": null,
            "flex": null,
            "_model_name": "LayoutModel",
            "justify_items": null,
            "grid_row": null,
            "max_height": null,
            "align_content": null,
            "visibility": null,
            "align_self": null,
            "height": null,
            "min_height": null,
            "padding": null,
            "grid_auto_rows": null,
            "grid_gap": null,
            "max_width": null,
            "order": null,
            "_view_module_version": "1.2.0",
            "grid_template_areas": null,
            "object_position": null,
            "object_fit": null,
            "grid_auto_columns": null,
            "margin": null,
            "display": null,
            "left": null
          }
        },
        "a0cb5bb0128948bb96da190b2bfa4408": {
          "model_module": "@jupyter-widgets/controls",
          "model_name": "HBoxModel",
          "state": {
            "_view_name": "HBoxView",
            "_dom_classes": [],
            "_model_name": "HBoxModel",
            "_view_module": "@jupyter-widgets/controls",
            "_model_module_version": "1.5.0",
            "_view_count": null,
            "_view_module_version": "1.5.0",
            "box_style": "",
            "layout": "IPY_MODEL_c683a438fa764e09bd6cf55ea230ff97",
            "_model_module": "@jupyter-widgets/controls",
            "children": [
              "IPY_MODEL_49384aeece8842e384bd4ecefeb9be59",
              "IPY_MODEL_43a1ec2fb12a477783999c230fed3b12"
            ]
          }
        },
        "c683a438fa764e09bd6cf55ea230ff97": {
          "model_module": "@jupyter-widgets/base",
          "model_name": "LayoutModel",
          "state": {
            "_view_name": "LayoutView",
            "grid_template_rows": null,
            "right": null,
            "justify_content": null,
            "_view_module": "@jupyter-widgets/base",
            "overflow": null,
            "_model_module_version": "1.2.0",
            "_view_count": null,
            "flex_flow": null,
            "width": null,
            "min_width": null,
            "border": null,
            "align_items": null,
            "bottom": null,
            "_model_module": "@jupyter-widgets/base",
            "top": null,
            "grid_column": null,
            "overflow_y": null,
            "overflow_x": null,
            "grid_auto_flow": null,
            "grid_area": null,
            "grid_template_columns": null,
            "flex": null,
            "_model_name": "LayoutModel",
            "justify_items": null,
            "grid_row": null,
            "max_height": null,
            "align_content": null,
            "visibility": null,
            "align_self": null,
            "height": null,
            "min_height": null,
            "padding": null,
            "grid_auto_rows": null,
            "grid_gap": null,
            "max_width": null,
            "order": null,
            "_view_module_version": "1.2.0",
            "grid_template_areas": null,
            "object_position": null,
            "object_fit": null,
            "grid_auto_columns": null,
            "margin": null,
            "display": null,
            "left": null
          }
        },
        "49384aeece8842e384bd4ecefeb9be59": {
          "model_module": "@jupyter-widgets/controls",
          "model_name": "FloatProgressModel",
          "state": {
            "_view_name": "ProgressView",
            "style": "IPY_MODEL_0ddb706794834cdb96261a831b74c6d0",
            "_dom_classes": [],
            "description": "Downloading: 100%",
            "_model_name": "FloatProgressModel",
            "bar_style": "success",
            "max": 231508,
            "_view_module": "@jupyter-widgets/controls",
            "_model_module_version": "1.5.0",
            "value": 231508,
            "_view_count": null,
            "_view_module_version": "1.5.0",
            "orientation": "horizontal",
            "min": 0,
            "description_tooltip": null,
            "_model_module": "@jupyter-widgets/controls",
            "layout": "IPY_MODEL_009995e2090d4fefab4d58a9d39fe108"
          }
        },
        "43a1ec2fb12a477783999c230fed3b12": {
          "model_module": "@jupyter-widgets/controls",
          "model_name": "HTMLModel",
          "state": {
            "_view_name": "HTMLView",
            "style": "IPY_MODEL_1ae76cfdee4f43b7b49c4e0116c37bb5",
            "_dom_classes": [],
            "description": "",
            "_model_name": "HTMLModel",
            "placeholder": "​",
            "_view_module": "@jupyter-widgets/controls",
            "_model_module_version": "1.5.0",
            "value": " 232k/232k [00:00&lt;00:00, 254kB/s]",
            "_view_count": null,
            "_view_module_version": "1.5.0",
            "description_tooltip": null,
            "_model_module": "@jupyter-widgets/controls",
            "layout": "IPY_MODEL_dd6910f2cc9e4b93aaae502b4563ca41"
          }
        },
        "0ddb706794834cdb96261a831b74c6d0": {
          "model_module": "@jupyter-widgets/controls",
          "model_name": "ProgressStyleModel",
          "state": {
            "_view_name": "StyleView",
            "_model_name": "ProgressStyleModel",
            "description_width": "initial",
            "_view_module": "@jupyter-widgets/base",
            "_model_module_version": "1.5.0",
            "_view_count": null,
            "_view_module_version": "1.2.0",
            "bar_color": null,
            "_model_module": "@jupyter-widgets/controls"
          }
        },
        "009995e2090d4fefab4d58a9d39fe108": {
          "model_module": "@jupyter-widgets/base",
          "model_name": "LayoutModel",
          "state": {
            "_view_name": "LayoutView",
            "grid_template_rows": null,
            "right": null,
            "justify_content": null,
            "_view_module": "@jupyter-widgets/base",
            "overflow": null,
            "_model_module_version": "1.2.0",
            "_view_count": null,
            "flex_flow": null,
            "width": null,
            "min_width": null,
            "border": null,
            "align_items": null,
            "bottom": null,
            "_model_module": "@jupyter-widgets/base",
            "top": null,
            "grid_column": null,
            "overflow_y": null,
            "overflow_x": null,
            "grid_auto_flow": null,
            "grid_area": null,
            "grid_template_columns": null,
            "flex": null,
            "_model_name": "LayoutModel",
            "justify_items": null,
            "grid_row": null,
            "max_height": null,
            "align_content": null,
            "visibility": null,
            "align_self": null,
            "height": null,
            "min_height": null,
            "padding": null,
            "grid_auto_rows": null,
            "grid_gap": null,
            "max_width": null,
            "order": null,
            "_view_module_version": "1.2.0",
            "grid_template_areas": null,
            "object_position": null,
            "object_fit": null,
            "grid_auto_columns": null,
            "margin": null,
            "display": null,
            "left": null
          }
        },
        "1ae76cfdee4f43b7b49c4e0116c37bb5": {
          "model_module": "@jupyter-widgets/controls",
          "model_name": "DescriptionStyleModel",
          "state": {
            "_view_name": "StyleView",
            "_model_name": "DescriptionStyleModel",
            "description_width": "",
            "_view_module": "@jupyter-widgets/base",
            "_model_module_version": "1.5.0",
            "_view_count": null,
            "_view_module_version": "1.2.0",
            "_model_module": "@jupyter-widgets/controls"
          }
        },
        "dd6910f2cc9e4b93aaae502b4563ca41": {
          "model_module": "@jupyter-widgets/base",
          "model_name": "LayoutModel",
          "state": {
            "_view_name": "LayoutView",
            "grid_template_rows": null,
            "right": null,
            "justify_content": null,
            "_view_module": "@jupyter-widgets/base",
            "overflow": null,
            "_model_module_version": "1.2.0",
            "_view_count": null,
            "flex_flow": null,
            "width": null,
            "min_width": null,
            "border": null,
            "align_items": null,
            "bottom": null,
            "_model_module": "@jupyter-widgets/base",
            "top": null,
            "grid_column": null,
            "overflow_y": null,
            "overflow_x": null,
            "grid_auto_flow": null,
            "grid_area": null,
            "grid_template_columns": null,
            "flex": null,
            "_model_name": "LayoutModel",
            "justify_items": null,
            "grid_row": null,
            "max_height": null,
            "align_content": null,
            "visibility": null,
            "align_self": null,
            "height": null,
            "min_height": null,
            "padding": null,
            "grid_auto_rows": null,
            "grid_gap": null,
            "max_width": null,
            "order": null,
            "_view_module_version": "1.2.0",
            "grid_template_areas": null,
            "object_position": null,
            "object_fit": null,
            "grid_auto_columns": null,
            "margin": null,
            "display": null,
            "left": null
          }
        },
        "c04b438e577b424e86e5c34fc8713647": {
          "model_module": "@jupyter-widgets/controls",
          "model_name": "HBoxModel",
          "state": {
            "_view_name": "HBoxView",
            "_dom_classes": [],
            "_model_name": "HBoxModel",
            "_view_module": "@jupyter-widgets/controls",
            "_model_module_version": "1.5.0",
            "_view_count": null,
            "_view_module_version": "1.5.0",
            "box_style": "",
            "layout": "IPY_MODEL_386e6f40734b4151a78b97401504913a",
            "_model_module": "@jupyter-widgets/controls",
            "children": [
              "IPY_MODEL_a70432a174064cdaaf830cb945f0d89d",
              "IPY_MODEL_22b479c64ee54f619874df9de4704df0"
            ]
          }
        },
        "386e6f40734b4151a78b97401504913a": {
          "model_module": "@jupyter-widgets/base",
          "model_name": "LayoutModel",
          "state": {
            "_view_name": "LayoutView",
            "grid_template_rows": null,
            "right": null,
            "justify_content": null,
            "_view_module": "@jupyter-widgets/base",
            "overflow": null,
            "_model_module_version": "1.2.0",
            "_view_count": null,
            "flex_flow": null,
            "width": null,
            "min_width": null,
            "border": null,
            "align_items": null,
            "bottom": null,
            "_model_module": "@jupyter-widgets/base",
            "top": null,
            "grid_column": null,
            "overflow_y": null,
            "overflow_x": null,
            "grid_auto_flow": null,
            "grid_area": null,
            "grid_template_columns": null,
            "flex": null,
            "_model_name": "LayoutModel",
            "justify_items": null,
            "grid_row": null,
            "max_height": null,
            "align_content": null,
            "visibility": null,
            "align_self": null,
            "height": null,
            "min_height": null,
            "padding": null,
            "grid_auto_rows": null,
            "grid_gap": null,
            "max_width": null,
            "order": null,
            "_view_module_version": "1.2.0",
            "grid_template_areas": null,
            "object_position": null,
            "object_fit": null,
            "grid_auto_columns": null,
            "margin": null,
            "display": null,
            "left": null
          }
        },
        "a70432a174064cdaaf830cb945f0d89d": {
          "model_module": "@jupyter-widgets/controls",
          "model_name": "FloatProgressModel",
          "state": {
            "_view_name": "ProgressView",
            "style": "IPY_MODEL_1e901917f46540d1a255f0bfe853c1d9",
            "_dom_classes": [],
            "description": "Downloading: 100%",
            "_model_name": "FloatProgressModel",
            "bar_style": "success",
            "max": 112,
            "_view_module": "@jupyter-widgets/controls",
            "_model_module_version": "1.5.0",
            "value": 112,
            "_view_count": null,
            "_view_module_version": "1.5.0",
            "orientation": "horizontal",
            "min": 0,
            "description_tooltip": null,
            "_model_module": "@jupyter-widgets/controls",
            "layout": "IPY_MODEL_4dff26908d1f4c5784b75aa3e607e0ee"
          }
        },
        "22b479c64ee54f619874df9de4704df0": {
          "model_module": "@jupyter-widgets/controls",
          "model_name": "HTMLModel",
          "state": {
            "_view_name": "HTMLView",
            "style": "IPY_MODEL_44214b7e22de412a8749237a0fa17bd6",
            "_dom_classes": [],
            "description": "",
            "_model_name": "HTMLModel",
            "placeholder": "​",
            "_view_module": "@jupyter-widgets/controls",
            "_model_module_version": "1.5.0",
            "value": " 112/112 [00:00&lt;00:00, 234B/s]",
            "_view_count": null,
            "_view_module_version": "1.5.0",
            "description_tooltip": null,
            "_model_module": "@jupyter-widgets/controls",
            "layout": "IPY_MODEL_9b388516316841baa06dc246cca12d64"
          }
        },
        "1e901917f46540d1a255f0bfe853c1d9": {
          "model_module": "@jupyter-widgets/controls",
          "model_name": "ProgressStyleModel",
          "state": {
            "_view_name": "StyleView",
            "_model_name": "ProgressStyleModel",
            "description_width": "initial",
            "_view_module": "@jupyter-widgets/base",
            "_model_module_version": "1.5.0",
            "_view_count": null,
            "_view_module_version": "1.2.0",
            "bar_color": null,
            "_model_module": "@jupyter-widgets/controls"
          }
        },
        "4dff26908d1f4c5784b75aa3e607e0ee": {
          "model_module": "@jupyter-widgets/base",
          "model_name": "LayoutModel",
          "state": {
            "_view_name": "LayoutView",
            "grid_template_rows": null,
            "right": null,
            "justify_content": null,
            "_view_module": "@jupyter-widgets/base",
            "overflow": null,
            "_model_module_version": "1.2.0",
            "_view_count": null,
            "flex_flow": null,
            "width": null,
            "min_width": null,
            "border": null,
            "align_items": null,
            "bottom": null,
            "_model_module": "@jupyter-widgets/base",
            "top": null,
            "grid_column": null,
            "overflow_y": null,
            "overflow_x": null,
            "grid_auto_flow": null,
            "grid_area": null,
            "grid_template_columns": null,
            "flex": null,
            "_model_name": "LayoutModel",
            "justify_items": null,
            "grid_row": null,
            "max_height": null,
            "align_content": null,
            "visibility": null,
            "align_self": null,
            "height": null,
            "min_height": null,
            "padding": null,
            "grid_auto_rows": null,
            "grid_gap": null,
            "max_width": null,
            "order": null,
            "_view_module_version": "1.2.0",
            "grid_template_areas": null,
            "object_position": null,
            "object_fit": null,
            "grid_auto_columns": null,
            "margin": null,
            "display": null,
            "left": null
          }
        },
        "44214b7e22de412a8749237a0fa17bd6": {
          "model_module": "@jupyter-widgets/controls",
          "model_name": "DescriptionStyleModel",
          "state": {
            "_view_name": "StyleView",
            "_model_name": "DescriptionStyleModel",
            "description_width": "",
            "_view_module": "@jupyter-widgets/base",
            "_model_module_version": "1.5.0",
            "_view_count": null,
            "_view_module_version": "1.2.0",
            "_model_module": "@jupyter-widgets/controls"
          }
        },
        "9b388516316841baa06dc246cca12d64": {
          "model_module": "@jupyter-widgets/base",
          "model_name": "LayoutModel",
          "state": {
            "_view_name": "LayoutView",
            "grid_template_rows": null,
            "right": null,
            "justify_content": null,
            "_view_module": "@jupyter-widgets/base",
            "overflow": null,
            "_model_module_version": "1.2.0",
            "_view_count": null,
            "flex_flow": null,
            "width": null,
            "min_width": null,
            "border": null,
            "align_items": null,
            "bottom": null,
            "_model_module": "@jupyter-widgets/base",
            "top": null,
            "grid_column": null,
            "overflow_y": null,
            "overflow_x": null,
            "grid_auto_flow": null,
            "grid_area": null,
            "grid_template_columns": null,
            "flex": null,
            "_model_name": "LayoutModel",
            "justify_items": null,
            "grid_row": null,
            "max_height": null,
            "align_content": null,
            "visibility": null,
            "align_self": null,
            "height": null,
            "min_height": null,
            "padding": null,
            "grid_auto_rows": null,
            "grid_gap": null,
            "max_width": null,
            "order": null,
            "_view_module_version": "1.2.0",
            "grid_template_areas": null,
            "object_position": null,
            "object_fit": null,
            "grid_auto_columns": null,
            "margin": null,
            "display": null,
            "left": null
          }
        },
        "89e81f3febc64fbb8f7758a6f8b66f52": {
          "model_module": "@jupyter-widgets/controls",
          "model_name": "HBoxModel",
          "state": {
            "_view_name": "HBoxView",
            "_dom_classes": [],
            "_model_name": "HBoxModel",
            "_view_module": "@jupyter-widgets/controls",
            "_model_module_version": "1.5.0",
            "_view_count": null,
            "_view_module_version": "1.5.0",
            "box_style": "",
            "layout": "IPY_MODEL_a1e7b7519ac24a0c9f7fc0359fae54b1",
            "_model_module": "@jupyter-widgets/controls",
            "children": [
              "IPY_MODEL_b463a9238cb34e7aa90e803b454d9cab",
              "IPY_MODEL_1580b65e9dde4bf88d3f6e988dc1e77b"
            ]
          }
        },
        "a1e7b7519ac24a0c9f7fc0359fae54b1": {
          "model_module": "@jupyter-widgets/base",
          "model_name": "LayoutModel",
          "state": {
            "_view_name": "LayoutView",
            "grid_template_rows": null,
            "right": null,
            "justify_content": null,
            "_view_module": "@jupyter-widgets/base",
            "overflow": null,
            "_model_module_version": "1.2.0",
            "_view_count": null,
            "flex_flow": null,
            "width": null,
            "min_width": null,
            "border": null,
            "align_items": null,
            "bottom": null,
            "_model_module": "@jupyter-widgets/base",
            "top": null,
            "grid_column": null,
            "overflow_y": null,
            "overflow_x": null,
            "grid_auto_flow": null,
            "grid_area": null,
            "grid_template_columns": null,
            "flex": null,
            "_model_name": "LayoutModel",
            "justify_items": null,
            "grid_row": null,
            "max_height": null,
            "align_content": null,
            "visibility": null,
            "align_self": null,
            "height": null,
            "min_height": null,
            "padding": null,
            "grid_auto_rows": null,
            "grid_gap": null,
            "max_width": null,
            "order": null,
            "_view_module_version": "1.2.0",
            "grid_template_areas": null,
            "object_position": null,
            "object_fit": null,
            "grid_auto_columns": null,
            "margin": null,
            "display": null,
            "left": null
          }
        },
        "b463a9238cb34e7aa90e803b454d9cab": {
          "model_module": "@jupyter-widgets/controls",
          "model_name": "FloatProgressModel",
          "state": {
            "_view_name": "ProgressView",
            "style": "IPY_MODEL_ad61aea852d145a1a1538dc3fea877a6",
            "_dom_classes": [],
            "description": "Downloading: 100%",
            "_model_name": "FloatProgressModel",
            "bar_style": "success",
            "max": 252,
            "_view_module": "@jupyter-widgets/controls",
            "_model_module_version": "1.5.0",
            "value": 252,
            "_view_count": null,
            "_view_module_version": "1.5.0",
            "orientation": "horizontal",
            "min": 0,
            "description_tooltip": null,
            "_model_module": "@jupyter-widgets/controls",
            "layout": "IPY_MODEL_e9b706908b7041cbbabc033695b20095"
          }
        },
        "1580b65e9dde4bf88d3f6e988dc1e77b": {
          "model_module": "@jupyter-widgets/controls",
          "model_name": "HTMLModel",
          "state": {
            "_view_name": "HTMLView",
            "style": "IPY_MODEL_11691f27d3cb40fc9e2694b7c6e38add",
            "_dom_classes": [],
            "description": "",
            "_model_name": "HTMLModel",
            "placeholder": "​",
            "_view_module": "@jupyter-widgets/controls",
            "_model_module_version": "1.5.0",
            "value": " 252/252 [00:00&lt;00:00, 1.23kB/s]",
            "_view_count": null,
            "_view_module_version": "1.5.0",
            "description_tooltip": null,
            "_model_module": "@jupyter-widgets/controls",
            "layout": "IPY_MODEL_549e4a7d8a69499babf1dee688ed69ed"
          }
        },
        "ad61aea852d145a1a1538dc3fea877a6": {
          "model_module": "@jupyter-widgets/controls",
          "model_name": "ProgressStyleModel",
          "state": {
            "_view_name": "StyleView",
            "_model_name": "ProgressStyleModel",
            "description_width": "initial",
            "_view_module": "@jupyter-widgets/base",
            "_model_module_version": "1.5.0",
            "_view_count": null,
            "_view_module_version": "1.2.0",
            "bar_color": null,
            "_model_module": "@jupyter-widgets/controls"
          }
        },
        "e9b706908b7041cbbabc033695b20095": {
          "model_module": "@jupyter-widgets/base",
          "model_name": "LayoutModel",
          "state": {
            "_view_name": "LayoutView",
            "grid_template_rows": null,
            "right": null,
            "justify_content": null,
            "_view_module": "@jupyter-widgets/base",
            "overflow": null,
            "_model_module_version": "1.2.0",
            "_view_count": null,
            "flex_flow": null,
            "width": null,
            "min_width": null,
            "border": null,
            "align_items": null,
            "bottom": null,
            "_model_module": "@jupyter-widgets/base",
            "top": null,
            "grid_column": null,
            "overflow_y": null,
            "overflow_x": null,
            "grid_auto_flow": null,
            "grid_area": null,
            "grid_template_columns": null,
            "flex": null,
            "_model_name": "LayoutModel",
            "justify_items": null,
            "grid_row": null,
            "max_height": null,
            "align_content": null,
            "visibility": null,
            "align_self": null,
            "height": null,
            "min_height": null,
            "padding": null,
            "grid_auto_rows": null,
            "grid_gap": null,
            "max_width": null,
            "order": null,
            "_view_module_version": "1.2.0",
            "grid_template_areas": null,
            "object_position": null,
            "object_fit": null,
            "grid_auto_columns": null,
            "margin": null,
            "display": null,
            "left": null
          }
        },
        "11691f27d3cb40fc9e2694b7c6e38add": {
          "model_module": "@jupyter-widgets/controls",
          "model_name": "DescriptionStyleModel",
          "state": {
            "_view_name": "StyleView",
            "_model_name": "DescriptionStyleModel",
            "description_width": "",
            "_view_module": "@jupyter-widgets/base",
            "_model_module_version": "1.5.0",
            "_view_count": null,
            "_view_module_version": "1.2.0",
            "_model_module": "@jupyter-widgets/controls"
          }
        },
        "549e4a7d8a69499babf1dee688ed69ed": {
          "model_module": "@jupyter-widgets/base",
          "model_name": "LayoutModel",
          "state": {
            "_view_name": "LayoutView",
            "grid_template_rows": null,
            "right": null,
            "justify_content": null,
            "_view_module": "@jupyter-widgets/base",
            "overflow": null,
            "_model_module_version": "1.2.0",
            "_view_count": null,
            "flex_flow": null,
            "width": null,
            "min_width": null,
            "border": null,
            "align_items": null,
            "bottom": null,
            "_model_module": "@jupyter-widgets/base",
            "top": null,
            "grid_column": null,
            "overflow_y": null,
            "overflow_x": null,
            "grid_auto_flow": null,
            "grid_area": null,
            "grid_template_columns": null,
            "flex": null,
            "_model_name": "LayoutModel",
            "justify_items": null,
            "grid_row": null,
            "max_height": null,
            "align_content": null,
            "visibility": null,
            "align_self": null,
            "height": null,
            "min_height": null,
            "padding": null,
            "grid_auto_rows": null,
            "grid_gap": null,
            "max_width": null,
            "order": null,
            "_view_module_version": "1.2.0",
            "grid_template_areas": null,
            "object_position": null,
            "object_fit": null,
            "grid_auto_columns": null,
            "margin": null,
            "display": null,
            "left": null
          }
        }
      }
    }
  },
  "cells": [
    {
      "cell_type": "markdown",
      "metadata": {
        "id": "view-in-github",
        "colab_type": "text"
      },
      "source": [
        "<a href=\"https://colab.research.google.com/github/souparnabose99/finbert-transformer-classification/blob/main/Finbert_Sentinment_Analysis.ipynb\" target=\"_parent\"><img src=\"https://colab.research.google.com/assets/colab-badge.svg\" alt=\"Open In Colab\"/></a>"
      ]
    },
    {
      "cell_type": "markdown",
      "metadata": {
        "id": "RfXKkEaV4Pcq"
      },
      "source": [
        "### Sentiment Analysis with Transformers:"
      ]
    },
    {
      "cell_type": "markdown",
      "metadata": {
        "id": "ciLVw5ND4Z68"
      },
      "source": [
        "The HuggingFace Transformers library is presently the most advanced and accessible library for building and using transformer models. As such, it will be what we primarily use throughout these notebooks.\n",
        "\n",
        "To apply sentiment analysis using the transformers library, we first need to decide on a model to use - as we will be applying a pretrained model, rather than starting from scratch. The list of models available can be found at:\n",
        "* https://huggingface.co/ProsusAI/finbert"
      ]
    },
    {
      "cell_type": "markdown",
      "metadata": {
        "id": "OTtTufN04iuP"
      },
      "source": [
        "![huggingface.png](data:image/png;base64,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)"
      ]
    },
    {
      "cell_type": "markdown",
      "metadata": {
        "id": "UxqQtuJY2cYk"
      },
      "source": [
        "FinBERT is a pre-trained NLP model to analyze sentiment of financial text. It is built by further training the BERT language model in the finance domain, using a large financial corpus and thereby fine-tuning it for financial sentiment classification. Financial PhraseBank by Malo et al. (2014) is used for fine-tuning. For more details, please see the paper FinBERT: Financial Sentiment Analysis with Pre-trained Language Models and our related blog post on Medium.\n",
        "\n",
        "The model will give softmax outputs for three labels: positive, negative or neutral.\n",
        "* https://huggingface.co/ProsusAI/finbert"
      ]
    },
    {
      "cell_type": "code",
      "metadata": {
        "id": "fyI2Wox72XeJ"
      },
      "source": [
        "model_name = \"ProsusAI/finbert\""
      ],
      "execution_count": 5,
      "outputs": []
    },
    {
      "cell_type": "markdown",
      "metadata": {
        "id": "kuRAmlix5Ws2"
      },
      "source": [
        "The typical flow of information through a sentiment classification model consists of four steps:\n",
        "\n",
        "* Raw text data is tokenized (converted into numerical IDs that map that word to a vector representation of the same word)\n",
        "\n",
        "* Token IDs are fed into the sentiment model\n",
        "\n",
        "* A set of values are output, each value represents a class, and the value represents probability of that being the correct sentiment class, from zero (definitely not) to one (definitely yes).\n",
        "\n",
        "* The argmax of this output array is taken to give us our winning sentiment classification.\n",
        "\n",
        "We do not always have the three outputs classes [positive, negative, and neutal], often we will find models that predict just [positive, negative], or models that are more granular [very positive, somewhat positive, neutral, somewhat negative, very negative]. We can change the number of outputs classes (step 3) to fit to the correct number of classes."
      ]
    },
    {
      "cell_type": "markdown",
      "metadata": {
        "id": "Oq1Ro6QL6uVt"
      },
      "source": [
        "### Install transformer library:"
      ]
    },
    {
      "cell_type": "code",
      "metadata": {
        "colab": {
          "base_uri": "https://localhost:8080/"
        },
        "id": "0t_Xy_hK6en-",
        "outputId": "38f9a6ca-f226-4b9f-8726-144b3a6afbe5"
      },
      "source": [
        "!pip install transformers"
      ],
      "execution_count": 6,
      "outputs": [
        {
          "output_type": "stream",
          "text": [
            "Requirement already satisfied: transformers in /usr/local/lib/python3.7/dist-packages (4.8.2)\n",
            "Requirement already satisfied: filelock in /usr/local/lib/python3.7/dist-packages (from transformers) (3.0.12)\n",
            "Requirement already satisfied: importlib-metadata; python_version < \"3.8\" in /usr/local/lib/python3.7/dist-packages (from transformers) (4.5.0)\n",
            "Requirement already satisfied: packaging in /usr/local/lib/python3.7/dist-packages (from transformers) (20.9)\n",
            "Requirement already satisfied: pyyaml in /usr/local/lib/python3.7/dist-packages (from transformers) (3.13)\n",
            "Requirement already satisfied: huggingface-hub==0.0.12 in /usr/local/lib/python3.7/dist-packages (from transformers) (0.0.12)\n",
            "Requirement already satisfied: sacremoses in /usr/local/lib/python3.7/dist-packages (from transformers) (0.0.45)\n",
            "Requirement already satisfied: requests in /usr/local/lib/python3.7/dist-packages (from transformers) (2.23.0)\n",
            "Requirement already satisfied: tokenizers<0.11,>=0.10.1 in /usr/local/lib/python3.7/dist-packages (from transformers) (0.10.3)\n",
            "Requirement already satisfied: regex!=2019.12.17 in /usr/local/lib/python3.7/dist-packages (from transformers) (2019.12.20)\n",
            "Requirement already satisfied: tqdm>=4.27 in /usr/local/lib/python3.7/dist-packages (from transformers) (4.41.1)\n",
            "Requirement already satisfied: numpy>=1.17 in /usr/local/lib/python3.7/dist-packages (from transformers) (1.19.5)\n",
            "Requirement already satisfied: typing-extensions>=3.6.4; python_version < \"3.8\" in /usr/local/lib/python3.7/dist-packages (from importlib-metadata; python_version < \"3.8\"->transformers) (3.7.4.3)\n",
            "Requirement already satisfied: zipp>=0.5 in /usr/local/lib/python3.7/dist-packages (from importlib-metadata; python_version < \"3.8\"->transformers) (3.4.1)\n",
            "Requirement already satisfied: pyparsing>=2.0.2 in /usr/local/lib/python3.7/dist-packages (from packaging->transformers) (2.4.7)\n",
            "Requirement already satisfied: joblib in /usr/local/lib/python3.7/dist-packages (from sacremoses->transformers) (1.0.1)\n",
            "Requirement already satisfied: click in /usr/local/lib/python3.7/dist-packages (from sacremoses->transformers) (7.1.2)\n",
            "Requirement already satisfied: six in /usr/local/lib/python3.7/dist-packages (from sacremoses->transformers) (1.15.0)\n",
            "Requirement already satisfied: idna<3,>=2.5 in /usr/local/lib/python3.7/dist-packages (from requests->transformers) (2.10)\n",
            "Requirement already satisfied: certifi>=2017.4.17 in /usr/local/lib/python3.7/dist-packages (from requests->transformers) (2021.5.30)\n",
            "Requirement already satisfied: urllib3!=1.25.0,!=1.25.1,<1.26,>=1.21.1 in /usr/local/lib/python3.7/dist-packages (from requests->transformers) (1.24.3)\n",
            "Requirement already satisfied: chardet<4,>=3.0.2 in /usr/local/lib/python3.7/dist-packages (from requests->transformers) (3.0.4)\n"
          ],
          "name": "stdout"
        }
      ]
    },
    {
      "cell_type": "code",
      "metadata": {
        "colab": {
          "base_uri": "https://localhost:8080/",
          "height": 115,
          "referenced_widgets": [
            "04a3d43125a34e53b90c7aad69220883",
            "e0105c1d15f54d1ab1895628f2d9eb17",
            "ee19772292684bdca7a4cf2e877b8c84",
            "17d73f5ed4f143f4a53cd75c90327a92",
            "d53ed682e0a04e4eb7ae906a2f1588a9",
            "f8d6d22c040244ec89137ab617b7e9ab",
            "941bd97292cd4d8fbd935b3afe9d230e",
            "24c7e90547b847a084eaedc453dabf50",
            "018d5dcc80bf4f69b10a57e44f415176",
            "25e882c25d534734a6ef6a6f930829ed",
            "1f745ae0b636403db45ac3d5e4d0b486",
            "9893d67c54834ff1844ec8480907db8d",
            "aaf6d7a887204db4ab1f1a23c3ba5394",
            "408ee0a14ae247e5ad0b11d8f87420ae",
            "f6527b5948db48e783640b218255a5ff",
            "d319255fb1034208935c4e5708100ea6"
          ]
        },
        "id": "blsMFN0Z2yB1",
        "outputId": "1c4e792e-3bb1-4bb1-bd21-b9dc27c6276a"
      },
      "source": [
        "from transformers import BertForSequenceClassification\n",
        "\n",
        "model = BertForSequenceClassification.from_pretrained(model_name)"
      ],
      "execution_count": 7,
      "outputs": [
        {
          "output_type": "display_data",
          "data": {
            "application/vnd.jupyter.widget-view+json": {
              "model_id": "04a3d43125a34e53b90c7aad69220883",
              "version_minor": 0,
              "version_major": 2
            },
            "text/plain": [
              "HBox(children=(FloatProgress(value=0.0, description='Downloading', max=758.0, style=ProgressStyle(description_…"
            ]
          },
          "metadata": {
            "tags": []
          }
        },
        {
          "output_type": "stream",
          "text": [
            "\n"
          ],
          "name": "stdout"
        },
        {
          "output_type": "display_data",
          "data": {
            "application/vnd.jupyter.widget-view+json": {
              "model_id": "018d5dcc80bf4f69b10a57e44f415176",
              "version_minor": 0,
              "version_major": 2
            },
            "text/plain": [
              "HBox(children=(FloatProgress(value=0.0, description='Downloading', max=437992753.0, style=ProgressStyle(descri…"
            ]
          },
          "metadata": {
            "tags": []
          }
        },
        {
          "output_type": "stream",
          "text": [
            "\n"
          ],
          "name": "stdout"
        }
      ]
    },
    {
      "cell_type": "markdown",
      "metadata": {
        "id": "Lj3STIju-SDl"
      },
      "source": [
        "### Initialize Tokenizer:"
      ]
    },
    {
      "cell_type": "code",
      "metadata": {
        "colab": {
          "base_uri": "https://localhost:8080/",
          "height": 164,
          "referenced_widgets": [
            "a0cb5bb0128948bb96da190b2bfa4408",
            "c683a438fa764e09bd6cf55ea230ff97",
            "49384aeece8842e384bd4ecefeb9be59",
            "43a1ec2fb12a477783999c230fed3b12",
            "0ddb706794834cdb96261a831b74c6d0",
            "009995e2090d4fefab4d58a9d39fe108",
            "1ae76cfdee4f43b7b49c4e0116c37bb5",
            "dd6910f2cc9e4b93aaae502b4563ca41",
            "c04b438e577b424e86e5c34fc8713647",
            "386e6f40734b4151a78b97401504913a",
            "a70432a174064cdaaf830cb945f0d89d",
            "22b479c64ee54f619874df9de4704df0",
            "1e901917f46540d1a255f0bfe853c1d9",
            "4dff26908d1f4c5784b75aa3e607e0ee",
            "44214b7e22de412a8749237a0fa17bd6",
            "9b388516316841baa06dc246cca12d64",
            "89e81f3febc64fbb8f7758a6f8b66f52",
            "a1e7b7519ac24a0c9f7fc0359fae54b1",
            "b463a9238cb34e7aa90e803b454d9cab",
            "1580b65e9dde4bf88d3f6e988dc1e77b",
            "ad61aea852d145a1a1538dc3fea877a6",
            "e9b706908b7041cbbabc033695b20095",
            "11691f27d3cb40fc9e2694b7c6e38add",
            "549e4a7d8a69499babf1dee688ed69ed"
          ]
        },
        "id": "Z5SNtM8r3_z1",
        "outputId": "fed6d7d8-7cff-42ae-9521-12795581f7f9"
      },
      "source": [
        "from transformers import BertTokenizer\n",
        "\n",
        "tokenizer = BertTokenizer.from_pretrained(model_name)"
      ],
      "execution_count": 8,
      "outputs": [
        {
          "output_type": "display_data",
          "data": {
            "application/vnd.jupyter.widget-view+json": {
              "model_id": "a0cb5bb0128948bb96da190b2bfa4408",
              "version_minor": 0,
              "version_major": 2
            },
            "text/plain": [
              "HBox(children=(FloatProgress(value=0.0, description='Downloading', max=231508.0, style=ProgressStyle(descripti…"
            ]
          },
          "metadata": {
            "tags": []
          }
        },
        {
          "output_type": "stream",
          "text": [
            "\n"
          ],
          "name": "stdout"
        },
        {
          "output_type": "display_data",
          "data": {
            "application/vnd.jupyter.widget-view+json": {
              "model_id": "c04b438e577b424e86e5c34fc8713647",
              "version_minor": 0,
              "version_major": 2
            },
            "text/plain": [
              "HBox(children=(FloatProgress(value=0.0, description='Downloading', max=112.0, style=ProgressStyle(description_…"
            ]
          },
          "metadata": {
            "tags": []
          }
        },
        {
          "output_type": "stream",
          "text": [
            "\n"
          ],
          "name": "stdout"
        },
        {
          "output_type": "display_data",
          "data": {
            "application/vnd.jupyter.widget-view+json": {
              "model_id": "89e81f3febc64fbb8f7758a6f8b66f52",
              "version_minor": 0,
              "version_major": 2
            },
            "text/plain": [
              "HBox(children=(FloatProgress(value=0.0, description='Downloading', max=252.0, style=ProgressStyle(description_…"
            ]
          },
          "metadata": {
            "tags": []
          }
        },
        {
          "output_type": "stream",
          "text": [
            "\n"
          ],
          "name": "stdout"
        }
      ]
    },
    {
      "cell_type": "code",
      "metadata": {
        "colab": {
          "base_uri": "https://localhost:8080/"
        },
        "id": "9SR2nHA4-jeu",
        "outputId": "714e483d-6c37-46f4-b6f2-131b8571863d"
      },
      "source": [
        "text = \"Japan’s biggest brokerage will stop offering cash prime-brokerage services in the US and Europe, and has given some clients about six months to find a new provider, according to people familiar with the matter, who asked not to be identified discussing the private information. A spokesman for Nomura declined to comment. The pullback comes after Nomura notched up some of the biggest losses from the implosion of the US. family office built by Bill Hwang.\"\n",
        "\n",
        "text_2 = \"Stock market regulator Securities and Exchange Board of India (Sebi) has banned Authum promoter director Sanjay Dangi and his associates including Alpana Dangi, a promoter director in Authum, along with promoters of four companies from dealing in the equity markets following allegations of price manipulation more than a decade ago.\"\n",
        "\n",
        "print(text)\n",
        "print()\n",
        "print(text_2)"
      ],
      "execution_count": 9,
      "outputs": [
        {
          "output_type": "stream",
          "text": [
            "Japan’s biggest brokerage will stop offering cash prime-brokerage services in the US and Europe, and has given some clients about six months to find a new provider, according to people familiar with the matter, who asked not to be identified discussing the private information. A spokesman for Nomura declined to comment. The pullback comes after Nomura notched up some of the biggest losses from the implosion of the US. family office built by Bill Hwang.\n",
            "\n",
            "Stock market regulator Securities and Exchange Board of India (Sebi) has banned Authum promoter director Sanjay Dangi and his associates including Alpana Dangi, a promoter director in Authum, along with promoters of four companies from dealing in the equity markets following allegations of price manipulation more than a decade ago.\n"
          ],
          "name": "stdout"
        }
      ]
    },
    {
      "cell_type": "code",
      "metadata": {
        "id": "u2Z9Uis__jLI"
      },
      "source": [
        "tokens_1 = tokenizer.encode_plus(text, max_length=512, truncation=True, padding='max_length', add_special_tokens=True, return_tensors='pt')\n",
        "tokens_2 = tokenizer.encode_plus(text, max_length=512, truncation=True, padding='max_length', add_special_tokens=True, return_tensors='pt')"
      ],
      "execution_count": 11,
      "outputs": []
    },
    {
      "cell_type": "markdown",
      "metadata": {
        "id": "cZ8NzTbiCK1v"
      },
      "source": [
        "### Bert Special Tokens:\n",
        "\n",
        "* [CLS] = 101, The classifier token which is used when doing sequence classification (classification of the whole sequence instead of per-token classification). It is the first token of the sequence when built with special tokens.\n",
        "* [SEP] = 102, The separator token, which is used when building a sequence from multiple sequences, e.g. two sequences for sequence classification or for a text and a question for question answering. It is also used as the last token of a sequence built with special tokens.\n",
        "* [MASK] = 103, The token used for masking values. This is the token used when training this model with masked language modeling. This is the token which the model will try to predict.\n",
        "* [UNK] = 100, The unknown token. A token that is not in the vocabulary cannot be converted to an ID and is set to be this token instead.\n",
        "* [PAD] = 0, The token used for padding, for example when batching sequences of different lengths."
      ]
    },
    {
      "cell_type": "code",
      "metadata": {
        "colab": {
          "base_uri": "https://localhost:8080/"
        },
        "id": "8ckvWJg2CAjF",
        "outputId": "0d331d01-4819-4473-ded2-a3eedcdddf4c"
      },
      "source": [
        "tokens_1"
      ],
      "execution_count": 12,
      "outputs": [
        {
          "output_type": "execute_result",
          "data": {
            "text/plain": [
              "{'input_ids': tensor([[  101,  2900,  1521,  1055,  5221, 20138,  4270,  2097,  2644,  5378,\n",
              "          5356,  3539,  1011, 20138,  4270,  2578,  1999,  1996,  2149,  1998,\n",
              "          2885,  1010,  1998,  2038,  2445,  2070,  7846,  2055,  2416,  2706,\n",
              "          2000,  2424,  1037,  2047, 10802,  1010,  2429,  2000,  2111,  5220,\n",
              "          2007,  1996,  3043,  1010,  2040,  2356,  2025,  2000,  2022,  4453,\n",
              "         10537,  1996,  2797,  2592,  1012,  1037, 14056,  2005,  2053, 16069,\n",
              "          6430,  2000,  7615,  1012,  1996,  4139,  5963,  3310,  2044,  2053,\n",
              "         16069, 18624,  2098,  2039,  2070,  1997,  1996,  5221,  6409,  2013,\n",
              "          1996, 17727, 10483,  3258,  1997,  1996,  2149,  1012,  2155,  2436,\n",
              "          2328,  2011,  3021,  1044, 16600,  1012,   102,     0,     0,     0,\n",
              "             0,     0,     0,     0,     0,     0,     0,     0,     0,     0,\n",
              "             0,     0,     0,     0,     0,     0,     0,     0,     0,     0,\n",
              "             0,     0,     0,     0,     0,     0,     0,     0,     0,     0,\n",
              "             0,     0,     0,     0,     0,     0,     0,     0,     0,     0,\n",
              "             0,     0,     0,     0,     0,     0,     0,     0,     0,     0,\n",
              "             0,     0,     0,     0,     0,     0,     0,     0,     0,     0,\n",
              "             0,     0,     0,     0,     0,     0,     0,     0,     0,     0,\n",
              "             0,     0,     0,     0,     0,     0,     0,     0,     0,     0,\n",
              "             0,     0,     0,     0,     0,     0,     0,     0,     0,     0,\n",
              "             0,     0,     0,     0,     0,     0,     0,     0,     0,     0,\n",
              "             0,     0,     0,     0,     0,     0,     0,     0,     0,     0,\n",
              "             0,     0,     0,     0,     0,     0,     0,     0,     0,     0,\n",
              "             0,     0,     0,     0,     0,     0,     0,     0,     0,     0,\n",
              "             0,     0,     0,     0,     0,     0,     0,     0,     0,     0,\n",
              "             0,     0,     0,     0,     0,     0,     0,     0,     0,     0,\n",
              "             0,     0,     0,     0,     0,     0,     0,     0,     0,     0,\n",
              "             0,     0,     0,     0,     0,     0,     0,     0,     0,     0,\n",
              "             0,     0,     0,     0,     0,     0,     0,     0,     0,     0,\n",
              "             0,     0,     0,     0,     0,     0,     0,     0,     0,     0,\n",
              "             0,     0,     0,     0,     0,     0,     0,     0,     0,     0,\n",
              "             0,     0,     0,     0,     0,     0,     0,     0,     0,     0,\n",
              "             0,     0,     0,     0,     0,     0,     0,     0,     0,     0,\n",
              "             0,     0,     0,     0,     0,     0,     0,     0,     0,     0,\n",
              "             0,     0,     0,     0,     0,     0,     0,     0,     0,     0,\n",
              "             0,     0,     0,     0,     0,     0,     0,     0,     0,     0,\n",
              "             0,     0,     0,     0,     0,     0,     0,     0,     0,     0,\n",
              "             0,     0,     0,     0,     0,     0,     0,     0,     0,     0,\n",
              "             0,     0,     0,     0,     0,     0,     0,     0,     0,     0,\n",
              "             0,     0,     0,     0,     0,     0,     0,     0,     0,     0,\n",
              "             0,     0,     0,     0,     0,     0,     0,     0,     0,     0,\n",
              "             0,     0,     0,     0,     0,     0,     0,     0,     0,     0,\n",
              "             0,     0,     0,     0,     0,     0,     0,     0,     0,     0,\n",
              "             0,     0,     0,     0,     0,     0,     0,     0,     0,     0,\n",
              "             0,     0,     0,     0,     0,     0,     0,     0,     0,     0,\n",
              "             0,     0,     0,     0,     0,     0,     0,     0,     0,     0,\n",
              "             0,     0,     0,     0,     0,     0,     0,     0,     0,     0,\n",
              "             0,     0,     0,     0,     0,     0,     0,     0,     0,     0,\n",
              "             0,     0,     0,     0,     0,     0,     0,     0,     0,     0,\n",
              "             0,     0,     0,     0,     0,     0,     0,     0,     0,     0,\n",
              "             0,     0,     0,     0,     0,     0,     0,     0,     0,     0,\n",
              "             0,     0,     0,     0,     0,     0,     0,     0,     0,     0,\n",
              "             0,     0]]), 'token_type_ids': tensor([[0, 0, 0, 0, 0, 0, 0, 0, 0, 0, 0, 0, 0, 0, 0, 0, 0, 0, 0, 0, 0, 0, 0, 0,\n",
              "         0, 0, 0, 0, 0, 0, 0, 0, 0, 0, 0, 0, 0, 0, 0, 0, 0, 0, 0, 0, 0, 0, 0, 0,\n",
              "         0, 0, 0, 0, 0, 0, 0, 0, 0, 0, 0, 0, 0, 0, 0, 0, 0, 0, 0, 0, 0, 0, 0, 0,\n",
              "         0, 0, 0, 0, 0, 0, 0, 0, 0, 0, 0, 0, 0, 0, 0, 0, 0, 0, 0, 0, 0, 0, 0, 0,\n",
              "         0, 0, 0, 0, 0, 0, 0, 0, 0, 0, 0, 0, 0, 0, 0, 0, 0, 0, 0, 0, 0, 0, 0, 0,\n",
              "         0, 0, 0, 0, 0, 0, 0, 0, 0, 0, 0, 0, 0, 0, 0, 0, 0, 0, 0, 0, 0, 0, 0, 0,\n",
              "         0, 0, 0, 0, 0, 0, 0, 0, 0, 0, 0, 0, 0, 0, 0, 0, 0, 0, 0, 0, 0, 0, 0, 0,\n",
              "         0, 0, 0, 0, 0, 0, 0, 0, 0, 0, 0, 0, 0, 0, 0, 0, 0, 0, 0, 0, 0, 0, 0, 0,\n",
              "         0, 0, 0, 0, 0, 0, 0, 0, 0, 0, 0, 0, 0, 0, 0, 0, 0, 0, 0, 0, 0, 0, 0, 0,\n",
              "         0, 0, 0, 0, 0, 0, 0, 0, 0, 0, 0, 0, 0, 0, 0, 0, 0, 0, 0, 0, 0, 0, 0, 0,\n",
              "         0, 0, 0, 0, 0, 0, 0, 0, 0, 0, 0, 0, 0, 0, 0, 0, 0, 0, 0, 0, 0, 0, 0, 0,\n",
              "         0, 0, 0, 0, 0, 0, 0, 0, 0, 0, 0, 0, 0, 0, 0, 0, 0, 0, 0, 0, 0, 0, 0, 0,\n",
              "         0, 0, 0, 0, 0, 0, 0, 0, 0, 0, 0, 0, 0, 0, 0, 0, 0, 0, 0, 0, 0, 0, 0, 0,\n",
              "         0, 0, 0, 0, 0, 0, 0, 0, 0, 0, 0, 0, 0, 0, 0, 0, 0, 0, 0, 0, 0, 0, 0, 0,\n",
              "         0, 0, 0, 0, 0, 0, 0, 0, 0, 0, 0, 0, 0, 0, 0, 0, 0, 0, 0, 0, 0, 0, 0, 0,\n",
              "         0, 0, 0, 0, 0, 0, 0, 0, 0, 0, 0, 0, 0, 0, 0, 0, 0, 0, 0, 0, 0, 0, 0, 0,\n",
              "         0, 0, 0, 0, 0, 0, 0, 0, 0, 0, 0, 0, 0, 0, 0, 0, 0, 0, 0, 0, 0, 0, 0, 0,\n",
              "         0, 0, 0, 0, 0, 0, 0, 0, 0, 0, 0, 0, 0, 0, 0, 0, 0, 0, 0, 0, 0, 0, 0, 0,\n",
              "         0, 0, 0, 0, 0, 0, 0, 0, 0, 0, 0, 0, 0, 0, 0, 0, 0, 0, 0, 0, 0, 0, 0, 0,\n",
              "         0, 0, 0, 0, 0, 0, 0, 0, 0, 0, 0, 0, 0, 0, 0, 0, 0, 0, 0, 0, 0, 0, 0, 0,\n",
              "         0, 0, 0, 0, 0, 0, 0, 0, 0, 0, 0, 0, 0, 0, 0, 0, 0, 0, 0, 0, 0, 0, 0, 0,\n",
              "         0, 0, 0, 0, 0, 0, 0, 0]]), 'attention_mask': tensor([[1, 1, 1, 1, 1, 1, 1, 1, 1, 1, 1, 1, 1, 1, 1, 1, 1, 1, 1, 1, 1, 1, 1, 1,\n",
              "         1, 1, 1, 1, 1, 1, 1, 1, 1, 1, 1, 1, 1, 1, 1, 1, 1, 1, 1, 1, 1, 1, 1, 1,\n",
              "         1, 1, 1, 1, 1, 1, 1, 1, 1, 1, 1, 1, 1, 1, 1, 1, 1, 1, 1, 1, 1, 1, 1, 1,\n",
              "         1, 1, 1, 1, 1, 1, 1, 1, 1, 1, 1, 1, 1, 1, 1, 1, 1, 1, 1, 1, 1, 1, 1, 1,\n",
              "         1, 0, 0, 0, 0, 0, 0, 0, 0, 0, 0, 0, 0, 0, 0, 0, 0, 0, 0, 0, 0, 0, 0, 0,\n",
              "         0, 0, 0, 0, 0, 0, 0, 0, 0, 0, 0, 0, 0, 0, 0, 0, 0, 0, 0, 0, 0, 0, 0, 0,\n",
              "         0, 0, 0, 0, 0, 0, 0, 0, 0, 0, 0, 0, 0, 0, 0, 0, 0, 0, 0, 0, 0, 0, 0, 0,\n",
              "         0, 0, 0, 0, 0, 0, 0, 0, 0, 0, 0, 0, 0, 0, 0, 0, 0, 0, 0, 0, 0, 0, 0, 0,\n",
              "         0, 0, 0, 0, 0, 0, 0, 0, 0, 0, 0, 0, 0, 0, 0, 0, 0, 0, 0, 0, 0, 0, 0, 0,\n",
              "         0, 0, 0, 0, 0, 0, 0, 0, 0, 0, 0, 0, 0, 0, 0, 0, 0, 0, 0, 0, 0, 0, 0, 0,\n",
              "         0, 0, 0, 0, 0, 0, 0, 0, 0, 0, 0, 0, 0, 0, 0, 0, 0, 0, 0, 0, 0, 0, 0, 0,\n",
              "         0, 0, 0, 0, 0, 0, 0, 0, 0, 0, 0, 0, 0, 0, 0, 0, 0, 0, 0, 0, 0, 0, 0, 0,\n",
              "         0, 0, 0, 0, 0, 0, 0, 0, 0, 0, 0, 0, 0, 0, 0, 0, 0, 0, 0, 0, 0, 0, 0, 0,\n",
              "         0, 0, 0, 0, 0, 0, 0, 0, 0, 0, 0, 0, 0, 0, 0, 0, 0, 0, 0, 0, 0, 0, 0, 0,\n",
              "         0, 0, 0, 0, 0, 0, 0, 0, 0, 0, 0, 0, 0, 0, 0, 0, 0, 0, 0, 0, 0, 0, 0, 0,\n",
              "         0, 0, 0, 0, 0, 0, 0, 0, 0, 0, 0, 0, 0, 0, 0, 0, 0, 0, 0, 0, 0, 0, 0, 0,\n",
              "         0, 0, 0, 0, 0, 0, 0, 0, 0, 0, 0, 0, 0, 0, 0, 0, 0, 0, 0, 0, 0, 0, 0, 0,\n",
              "         0, 0, 0, 0, 0, 0, 0, 0, 0, 0, 0, 0, 0, 0, 0, 0, 0, 0, 0, 0, 0, 0, 0, 0,\n",
              "         0, 0, 0, 0, 0, 0, 0, 0, 0, 0, 0, 0, 0, 0, 0, 0, 0, 0, 0, 0, 0, 0, 0, 0,\n",
              "         0, 0, 0, 0, 0, 0, 0, 0, 0, 0, 0, 0, 0, 0, 0, 0, 0, 0, 0, 0, 0, 0, 0, 0,\n",
              "         0, 0, 0, 0, 0, 0, 0, 0, 0, 0, 0, 0, 0, 0, 0, 0, 0, 0, 0, 0, 0, 0, 0, 0,\n",
              "         0, 0, 0, 0, 0, 0, 0, 0]])}"
            ]
          },
          "metadata": {
            "tags": []
          },
          "execution_count": 12
        }
      ]
    },
    {
      "cell_type": "markdown",
      "metadata": {
        "id": "6IoQlg17DeC1"
      },
      "source": [
        "### Pass tokens to model as keyword arguments:"
      ]
    },
    {
      "cell_type": "code",
      "metadata": {
        "colab": {
          "base_uri": "https://localhost:8080/"
        },
        "id": "M-PSjkUjCElu",
        "outputId": "2c994ea1-f27d-4e13-d03b-e6849d2bcec1"
      },
      "source": [
        "output_1 = model(**tokens_1)\n",
        "output_2 = model(**tokens_2)\n",
        "\n",
        "output_1"
      ],
      "execution_count": 13,
      "outputs": [
        {
          "output_type": "execute_result",
          "data": {
            "text/plain": [
              "SequenceClassifierOutput([('logits',\n",
              "                           tensor([[-1.7918,  2.9201, -0.6792]], grad_fn=<AddmmBackward>))])"
            ]
          },
          "metadata": {
            "tags": []
          },
          "execution_count": 13
        }
      ]
    },
    {
      "cell_type": "code",
      "metadata": {
        "colab": {
          "base_uri": "https://localhost:8080/"
        },
        "id": "pNyM5JJqEV_P",
        "outputId": "6c0b7218-06a4-49d1-d7d6-c081ccb5653c"
      },
      "source": [
        "output_1[0]"
      ],
      "execution_count": 14,
      "outputs": [
        {
          "output_type": "execute_result",
          "data": {
            "text/plain": [
              "tensor([[-1.7918,  2.9201, -0.6792]], grad_fn=<AddmmBackward>)"
            ]
          },
          "metadata": {
            "tags": []
          },
          "execution_count": 14
        }
      ]
    },
    {
      "cell_type": "markdown",
      "metadata": {
        "id": "T4sNnHNGFEYK"
      },
      "source": [
        "### Predictions:"
      ]
    },
    {
      "cell_type": "code",
      "metadata": {
        "id": "AQxPATh7EbOc"
      },
      "source": [
        "import torch.nn.functional as funct"
      ],
      "execution_count": 15,
      "outputs": []
    },
    {
      "cell_type": "code",
      "metadata": {
        "colab": {
          "base_uri": "https://localhost:8080/"
        },
        "id": "fAmsSHheEvEf",
        "outputId": "a0a990fb-fc6f-46dd-fb5a-75e8b250e459"
      },
      "source": [
        "probs_1 = funct.softmax(output_1[0], dim=-1)\n",
        "probs_2 = funct.softmax(output_2[0], dim=-1)\n",
        "\n",
        "probs_1"
      ],
      "execution_count": 16,
      "outputs": [
        {
          "output_type": "execute_result",
          "data": {
            "text/plain": [
              "tensor([[0.0087, 0.9649, 0.0264]], grad_fn=<SoftmaxBackward>)"
            ]
          },
          "metadata": {
            "tags": []
          },
          "execution_count": 16
        }
      ]
    },
    {
      "cell_type": "code",
      "metadata": {
        "colab": {
          "base_uri": "https://localhost:8080/"
        },
        "id": "DyMt39VME9e3",
        "outputId": "6cf2e679-7987-4d36-b2d9-1e746019a40e"
      },
      "source": [
        "import torch\n",
        "\n",
        "preds_1 = torch.argmax(probs_1)\n",
        "preds_2 = torch.argmax(probs_2)\n",
        "\n",
        "print(preds_1.item())\n",
        "print(preds_2.item())"
      ],
      "execution_count": 17,
      "outputs": [
        {
          "output_type": "stream",
          "text": [
            "1\n",
            "1\n"
          ],
          "name": "stdout"
        }
      ]
    },
    {
      "cell_type": "code",
      "metadata": {
        "id": "hh8BUYyxFV3U"
      },
      "source": [
        ""
      ],
      "execution_count": null,
      "outputs": []
    }
  ]
}